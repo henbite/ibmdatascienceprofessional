{
 "cells": [
  {
   "metadata": {},
   "cell_type": "markdown",
   "source": "",
   "id": "d4af51d579394148"
  },
  {
   "metadata": {},
   "cell_type": "markdown",
   "source": [
    "Exercise 2: Create markdown cell with title of the notebook\n",
    "\n",
    "# Create a markdown cell with the title Data Science Tools and Ecosystem"
   ],
   "id": "d8bdd4ac46953ec3"
  },
  {
   "metadata": {},
   "cell_type": "markdown",
   "source": [
    "Exercise 3 - Create a markdown cell for an introduction\n",
    "\n",
    "In this notebook, Data Science Tools and Ecosystem are summarized."
   ],
   "id": "f0424243f327042b"
  },
  {
   "metadata": {},
   "cell_type": "markdown",
   "source": [
    "Exercise 10 - Insert a markdown cell to list Objectives\n",
    "\n",
    "**Objectives:**\n",
    "\n",
    "* Data science languages\n",
    "* Data science libraries\n",
    "* Data science tools\n",
    "* Expressions in Jupyter notebooks"
   ],
   "id": "863adbef9a3ee79f"
  },
  {
   "metadata": {},
   "cell_type": "markdown",
   "source": [
    "Exercise 11 - Create a markdown cell to indicate the Author's name\n",
    "\n",
    "## Author\n",
    "Georg Hendlmeier"
   ],
   "id": "90f90eeeaf535526"
  },
  {
   "metadata": {},
   "cell_type": "markdown",
   "source": "",
   "id": "8c0334b8475a9107"
  },
  {
   "metadata": {},
   "cell_type": "markdown",
   "source": [
    "Exercise 4 - Create a markdown cell to list data science languages\n",
    "\n",
    "Some of the popular languages that Data Scientists use are:\n",
    "\n",
    "1. Python\n",
    "2. R\n",
    "3. Scala"
   ],
   "id": "6c7006d1c19fe8f"
  },
  {
   "metadata": {},
   "cell_type": "markdown",
   "source": [
    "Exercise 5 - Create a markdown cell to list data science libraries\n",
    "\n",
    "Some of the commonly used libraries used by Data Scientists include:\n",
    "1. numpy\n",
    "2. ggplot\n",
    "3. pandas\n",
    "4. caret"
   ],
   "id": "2933ef7536d96986"
  },
  {
   "metadata": {},
   "cell_type": "markdown",
   "source": [
    "Exercise 6 - Create a markdown cell with a table of Data Science tools\n",
    "\n",
    "| Data Science Tools |\n",
    "|----------------------|\n",
    "| Jupyter Notebooks |\n",
    "| R-Studio |\n",
    "| Watson Studio |"
   ],
   "id": "e036986d15ec6cd4"
  },
  {
   "metadata": {},
   "cell_type": "markdown",
   "source": [
    "Exercise 7 - Create a markdown cell introducing arithmetic expression examples\n",
    "\n",
    "### Below are a few examples of evaluating arithmetic expressions in Python."
   ],
   "id": "fbc39f6a6b94dd71"
  },
  {
   "metadata": {
    "ExecuteTime": {
     "end_time": "2024-04-26T13:23:21.387636Z",
     "start_time": "2024-04-26T13:23:21.382073Z"
    }
   },
   "cell_type": "code",
   "source": [
    "# Exercise 8 - Create a code cell to multiply and add numbers\n",
    "\n",
    "# This a simple arithmetic expression to mutiply then add integers\n",
    "(3*4)+5"
   ],
   "id": "ba273b27df751446",
   "outputs": [
    {
     "data": {
      "text/plain": [
       "17"
      ]
     },
     "execution_count": 1,
     "metadata": {},
     "output_type": "execute_result"
    }
   ],
   "execution_count": 1
  },
  {
   "metadata": {
    "ExecuteTime": {
     "end_time": "2024-04-26T13:28:28.616221Z",
     "start_time": "2024-04-26T13:28:28.612388Z"
    }
   },
   "cell_type": "code",
   "source": [
    "# Exercise 9 - Create a code cell to convert minutes to hours\n",
    "\n",
    "# This will convert 200 minutes to hours by diving by 60\n",
    "200/60"
   ],
   "id": "b78e6315a2e2e250",
   "outputs": [
    {
     "data": {
      "text/plain": [
       "3.3333333333333335"
      ]
     },
     "execution_count": 2,
     "metadata": {},
     "output_type": "execute_result"
    }
   ],
   "execution_count": 2
  }
 ],
 "metadata": {
  "kernelspec": {
   "display_name": "Python 3",
   "language": "python",
   "name": "python3"
  },
  "language_info": {
   "codemirror_mode": {
    "name": "ipython",
    "version": 2
   },
   "file_extension": ".py",
   "mimetype": "text/x-python",
   "name": "python",
   "nbconvert_exporter": "python",
   "pygments_lexer": "ipython2",
   "version": "2.7.6"
  }
 },
 "nbformat": 4,
 "nbformat_minor": 5
}
